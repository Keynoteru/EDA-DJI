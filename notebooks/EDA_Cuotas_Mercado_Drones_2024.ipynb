{
 "cells": [
  {
   "cell_type": "markdown",
   "id": "e4ab9298",
   "metadata": {},
   "source": [
    "# Análisis de la Cuota de Mercado de Drones en 2024"
   ]
  },
  {
   "cell_type": "markdown",
   "id": "aec42f15",
   "metadata": {},
   "source": [
    "\n",
    "Este análisis tiene como objetivo explorar los datos relacionados con la cuota de mercado de las principales empresas de drones en 2024. A través de este análisis, utilizaremos técnicas de análisis exploratorio de datos (EDA) y visualización para entender mejor la posición de estas empresas en el mercado.\n",
    "\n",
    "Los datos que se utilizarán en este análisis provienen del archivo `Cuotas_mercado_drones_2024.csv`.\n"
   ]
  },
  {
   "cell_type": "markdown",
   "id": "ba788b67",
   "metadata": {},
   "source": [
    "## Cargar y explorar los datos"
   ]
  },
  {
   "cell_type": "code",
   "execution_count": null,
   "id": "5b7912c9",
   "metadata": {},
   "outputs": [],
   "source": [
    "\n",
    "import pandas as pd\n",
    "\n",
    "# Cargar el archivo CSV\n",
    "df = pd.read_csv('Cuotas_mercado_drones_2024.csv')\n",
    "\n",
    "# Mostrar las primeras filas del dataframe\n",
    "df.head()\n"
   ]
  },
  {
   "cell_type": "markdown",
   "id": "625a9425",
   "metadata": {},
   "source": [
    "## Limpieza de los datos"
   ]
  },
  {
   "cell_type": "code",
   "execution_count": null,
   "id": "eec7847b",
   "metadata": {},
   "outputs": [],
   "source": [
    "\n",
    "# Convertir la columna 'Market Share (2024)' a formato numérico\n",
    "df['Market Share (2024)'] = df['Market Share (2024)'].str.rstrip('%').astype(float)\n",
    "\n",
    "# Verificar la limpieza\n",
    "df.info()\n"
   ]
  },
  {
   "cell_type": "markdown",
   "id": "6ca074c0",
   "metadata": {},
   "source": [
    "## Análisis descriptivo"
   ]
  },
  {
   "cell_type": "code",
   "execution_count": null,
   "id": "d160bf8f",
   "metadata": {},
   "outputs": [],
   "source": [
    "\n",
    "# Resumen estadístico de la cuota de mercado\n",
    "df.describe()\n"
   ]
  },
  {
   "cell_type": "markdown",
   "id": "e99a9d4d",
   "metadata": {},
   "source": [
    "## Visualización: Gráfico de Pastel de la Cuota de Mercado"
   ]
  },
  {
   "cell_type": "code",
   "execution_count": null,
   "id": "0d75d933",
   "metadata": {},
   "outputs": [],
   "source": [
    "\n",
    "import matplotlib.pyplot as plt\n",
    "\n",
    "# Crear un gráfico de pastel\n",
    "plt.figure(figsize=(8, 6))\n",
    "plt.pie(df['Market Share (2024)'], labels=df['Company'], autopct='%1.1f%%', startangle=90)\n",
    "plt.title('Cuota de Mercado de Drones en 2024')\n",
    "plt.show()\n"
   ]
  },
  {
   "cell_type": "markdown",
   "id": "eb64f0e0",
   "metadata": {},
   "source": [
    "## Visualización: Gráfico de Barras Comparando Empresas"
   ]
  },
  {
   "cell_type": "code",
   "execution_count": null,
   "id": "d81bed35",
   "metadata": {},
   "outputs": [],
   "source": [
    "\n",
    "# Crear un gráfico de barras\n",
    "plt.figure(figsize=(10, 6))\n",
    "plt.barh(df['Company'], df['Market Share (2024)'], color='skyblue')\n",
    "plt.xlabel('Cuota de Mercado (%)')\n",
    "plt.ylabel('Empresa')\n",
    "plt.title('Cuota de Mercado de Drones por Empresa (2024)')\n",
    "plt.show()\n"
   ]
  },
  {
   "cell_type": "markdown",
   "id": "1006e7db",
   "metadata": {},
   "source": [
    "\n",
    "## Conclusiones\n",
    "\n",
    "En base a este análisis, podemos observar que DJI continúa dominando el mercado de drones con una cuota de mercado superior al 70%. Aunque otras empresas como Autel Robotics y Parrot mantienen una presencia notable, ninguna se acerca al nivel de DJI. Empresas emergentes como Skydio están ganando terreno, especialmente en el sector de drones autónomos, pero aún están lejos de representar una amenaza seria para el liderazgo de DJI.\n",
    "\n",
    "Este análisis puede ser utilizado como punto de partida para estudios adicionales que analicen la innovación tecnológica o las estrategias de mercado que permiten a DJI mantener su liderazgo.\n"
   ]
  }
 ],
 "metadata": {},
 "nbformat": 4,
 "nbformat_minor": 5
}
